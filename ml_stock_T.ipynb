{
 "cells": [
  {
   "cell_type": "code",
   "execution_count": 1,
   "id": "edad6d40",
   "metadata": {},
   "outputs": [],
   "source": [
    "#pip install yahooquery\n",
    "#pip install prophet\n",
    "import pandas as pd\n",
    "from yahooquery import Ticker"
   ]
  },
  {
   "cell_type": "code",
   "execution_count": 2,
   "id": "e647e296",
   "metadata": {},
   "outputs": [
    {
     "data": {
      "text/html": [
       "<div>\n",
       "<style scoped>\n",
       "    .dataframe tbody tr th:only-of-type {\n",
       "        vertical-align: middle;\n",
       "    }\n",
       "\n",
       "    .dataframe tbody tr th {\n",
       "        vertical-align: top;\n",
       "    }\n",
       "\n",
       "    .dataframe thead th {\n",
       "        text-align: right;\n",
       "    }\n",
       "</style>\n",
       "<table border=\"1\" class=\"dataframe\">\n",
       "  <thead>\n",
       "    <tr style=\"text-align: right;\">\n",
       "      <th></th>\n",
       "      <th></th>\n",
       "      <th>open</th>\n",
       "      <th>high</th>\n",
       "      <th>low</th>\n",
       "      <th>close</th>\n",
       "      <th>volume</th>\n",
       "      <th>adjclose</th>\n",
       "      <th>dividends</th>\n",
       "      <th>splits</th>\n",
       "    </tr>\n",
       "    <tr>\n",
       "      <th>symbol</th>\n",
       "      <th>date</th>\n",
       "      <th></th>\n",
       "      <th></th>\n",
       "      <th></th>\n",
       "      <th></th>\n",
       "      <th></th>\n",
       "      <th></th>\n",
       "      <th></th>\n",
       "      <th></th>\n",
       "    </tr>\n",
       "  </thead>\n",
       "  <tbody>\n",
       "    <tr>\n",
       "      <th rowspan=\"11\" valign=\"top\">T</th>\n",
       "      <th>2021-12-01</th>\n",
       "      <td>17.371601</td>\n",
       "      <td>17.522659</td>\n",
       "      <td>16.782476</td>\n",
       "      <td>16.790030</td>\n",
       "      <td>106323952</td>\n",
       "      <td>15.403193</td>\n",
       "      <td>0.0</td>\n",
       "      <td>0.0</td>\n",
       "    </tr>\n",
       "    <tr>\n",
       "      <th>2021-12-02</th>\n",
       "      <td>16.827795</td>\n",
       "      <td>17.567976</td>\n",
       "      <td>16.827795</td>\n",
       "      <td>17.409367</td>\n",
       "      <td>105952835</td>\n",
       "      <td>15.971371</td>\n",
       "      <td>0.0</td>\n",
       "      <td>0.0</td>\n",
       "    </tr>\n",
       "    <tr>\n",
       "      <th>2021-12-03</th>\n",
       "      <td>17.386707</td>\n",
       "      <td>17.771902</td>\n",
       "      <td>17.303625</td>\n",
       "      <td>17.719032</td>\n",
       "      <td>93399859</td>\n",
       "      <td>16.255459</td>\n",
       "      <td>0.0</td>\n",
       "      <td>0.0</td>\n",
       "    </tr>\n",
       "    <tr>\n",
       "      <th>2021-12-06</th>\n",
       "      <td>17.817221</td>\n",
       "      <td>18.081572</td>\n",
       "      <td>17.545317</td>\n",
       "      <td>17.583082</td>\n",
       "      <td>78265347</td>\n",
       "      <td>16.130737</td>\n",
       "      <td>0.0</td>\n",
       "      <td>0.0</td>\n",
       "    </tr>\n",
       "    <tr>\n",
       "      <th>2021-12-07</th>\n",
       "      <td>17.598186</td>\n",
       "      <td>17.651056</td>\n",
       "      <td>17.348944</td>\n",
       "      <td>17.432024</td>\n",
       "      <td>82646331</td>\n",
       "      <td>15.992158</td>\n",
       "      <td>0.0</td>\n",
       "      <td>0.0</td>\n",
       "    </tr>\n",
       "    <tr>\n",
       "      <th>...</th>\n",
       "      <td>...</td>\n",
       "      <td>...</td>\n",
       "      <td>...</td>\n",
       "      <td>...</td>\n",
       "      <td>...</td>\n",
       "      <td>...</td>\n",
       "      <td>...</td>\n",
       "      <td>...</td>\n",
       "    </tr>\n",
       "    <tr>\n",
       "      <th>2022-12-23</th>\n",
       "      <td>18.170000</td>\n",
       "      <td>18.320000</td>\n",
       "      <td>18.100000</td>\n",
       "      <td>18.309999</td>\n",
       "      <td>25164100</td>\n",
       "      <td>18.049366</td>\n",
       "      <td>0.0</td>\n",
       "      <td>0.0</td>\n",
       "    </tr>\n",
       "    <tr>\n",
       "      <th>2022-12-27</th>\n",
       "      <td>18.250000</td>\n",
       "      <td>18.520000</td>\n",
       "      <td>18.219999</td>\n",
       "      <td>18.459999</td>\n",
       "      <td>30382500</td>\n",
       "      <td>18.197231</td>\n",
       "      <td>0.0</td>\n",
       "      <td>0.0</td>\n",
       "    </tr>\n",
       "    <tr>\n",
       "      <th>2022-12-28</th>\n",
       "      <td>18.450001</td>\n",
       "      <td>18.549999</td>\n",
       "      <td>18.190001</td>\n",
       "      <td>18.219999</td>\n",
       "      <td>26632300</td>\n",
       "      <td>17.960648</td>\n",
       "      <td>0.0</td>\n",
       "      <td>0.0</td>\n",
       "    </tr>\n",
       "    <tr>\n",
       "      <th>2022-12-29</th>\n",
       "      <td>18.270000</td>\n",
       "      <td>18.549999</td>\n",
       "      <td>18.240000</td>\n",
       "      <td>18.450001</td>\n",
       "      <td>23765900</td>\n",
       "      <td>18.187374</td>\n",
       "      <td>0.0</td>\n",
       "      <td>0.0</td>\n",
       "    </tr>\n",
       "    <tr>\n",
       "      <th>2022-12-30</th>\n",
       "      <td>18.420000</td>\n",
       "      <td>18.480000</td>\n",
       "      <td>18.219999</td>\n",
       "      <td>18.410000</td>\n",
       "      <td>26200800</td>\n",
       "      <td>18.147943</td>\n",
       "      <td>0.0</td>\n",
       "      <td>0.0</td>\n",
       "    </tr>\n",
       "  </tbody>\n",
       "</table>\n",
       "<p>273 rows × 8 columns</p>\n",
       "</div>"
      ],
      "text/plain": [
       "                        open       high        low      close     volume  \\\n",
       "symbol date                                                                \n",
       "T      2021-12-01  17.371601  17.522659  16.782476  16.790030  106323952   \n",
       "       2021-12-02  16.827795  17.567976  16.827795  17.409367  105952835   \n",
       "       2021-12-03  17.386707  17.771902  17.303625  17.719032   93399859   \n",
       "       2021-12-06  17.817221  18.081572  17.545317  17.583082   78265347   \n",
       "       2021-12-07  17.598186  17.651056  17.348944  17.432024   82646331   \n",
       "...                      ...        ...        ...        ...        ...   \n",
       "       2022-12-23  18.170000  18.320000  18.100000  18.309999   25164100   \n",
       "       2022-12-27  18.250000  18.520000  18.219999  18.459999   30382500   \n",
       "       2022-12-28  18.450001  18.549999  18.190001  18.219999   26632300   \n",
       "       2022-12-29  18.270000  18.549999  18.240000  18.450001   23765900   \n",
       "       2022-12-30  18.420000  18.480000  18.219999  18.410000   26200800   \n",
       "\n",
       "                    adjclose  dividends  splits  \n",
       "symbol date                                      \n",
       "T      2021-12-01  15.403193        0.0     0.0  \n",
       "       2021-12-02  15.971371        0.0     0.0  \n",
       "       2021-12-03  16.255459        0.0     0.0  \n",
       "       2021-12-06  16.130737        0.0     0.0  \n",
       "       2021-12-07  15.992158        0.0     0.0  \n",
       "...                      ...        ...     ...  \n",
       "       2022-12-23  18.049366        0.0     0.0  \n",
       "       2022-12-27  18.197231        0.0     0.0  \n",
       "       2022-12-28  17.960648        0.0     0.0  \n",
       "       2022-12-29  18.187374        0.0     0.0  \n",
       "       2022-12-30  18.147943        0.0     0.0  \n",
       "\n",
       "[273 rows x 8 columns]"
      ]
     },
     "execution_count": 2,
     "metadata": {},
     "output_type": "execute_result"
    }
   ],
   "source": [
    "#symbols = ['fb', 'aapl', 'amzn', 'nflx', 'goog', 'TSLA']\n",
    "started = '2021-12-01'\n",
    "stock_market = 'T'\n",
    "symbols = [stock_market]\n",
    "history_raw = Ticker(symbols).history(start=started, end='2022-12-31',adj_ohlc=False)\n",
    "history_raw"
   ]
  },
  {
   "cell_type": "code",
   "execution_count": 3,
   "id": "5c6b4263",
   "metadata": {},
   "outputs": [
    {
     "data": {
      "text/html": [
       "<div>\n",
       "<style scoped>\n",
       "    .dataframe tbody tr th:only-of-type {\n",
       "        vertical-align: middle;\n",
       "    }\n",
       "\n",
       "    .dataframe tbody tr th {\n",
       "        vertical-align: top;\n",
       "    }\n",
       "\n",
       "    .dataframe thead th {\n",
       "        text-align: right;\n",
       "    }\n",
       "</style>\n",
       "<table border=\"1\" class=\"dataframe\">\n",
       "  <thead>\n",
       "    <tr style=\"text-align: right;\">\n",
       "      <th></th>\n",
       "      <th></th>\n",
       "      <th>open</th>\n",
       "      <th>high</th>\n",
       "      <th>std_open_5d</th>\n",
       "      <th>std_close_5d</th>\n",
       "      <th>std_volume_5d</th>\n",
       "      <th>std_high_5d</th>\n",
       "      <th>std_low_5d</th>\n",
       "      <th>std_open_10d</th>\n",
       "      <th>std_close_10d</th>\n",
       "      <th>std_volume_10d</th>\n",
       "      <th>std_high_10d</th>\n",
       "      <th>std_low_10d</th>\n",
       "    </tr>\n",
       "    <tr>\n",
       "      <th>symbol</th>\n",
       "      <th>date</th>\n",
       "      <th></th>\n",
       "      <th></th>\n",
       "      <th></th>\n",
       "      <th></th>\n",
       "      <th></th>\n",
       "      <th></th>\n",
       "      <th></th>\n",
       "      <th></th>\n",
       "      <th></th>\n",
       "      <th></th>\n",
       "      <th></th>\n",
       "      <th></th>\n",
       "    </tr>\n",
       "  </thead>\n",
       "  <tbody>\n",
       "    <tr>\n",
       "      <th rowspan=\"11\" valign=\"top\">T</th>\n",
       "      <th>2021-12-14</th>\n",
       "      <td>16.910875</td>\n",
       "      <td>17.167673</td>\n",
       "      <td>0.21</td>\n",
       "      <td>0.27</td>\n",
       "      <td>19608885.02</td>\n",
       "      <td>0.25</td>\n",
       "      <td>0.24</td>\n",
       "      <td>0.29</td>\n",
       "      <td>0.32</td>\n",
       "      <td>18344355.21</td>\n",
       "      <td>0.28</td>\n",
       "      <td>0.28</td>\n",
       "    </tr>\n",
       "    <tr>\n",
       "      <th>2021-12-15</th>\n",
       "      <td>16.827795</td>\n",
       "      <td>16.918428</td>\n",
       "      <td>0.26</td>\n",
       "      <td>0.26</td>\n",
       "      <td>20024385.37</td>\n",
       "      <td>0.21</td>\n",
       "      <td>0.23</td>\n",
       "      <td>0.33</td>\n",
       "      <td>0.33</td>\n",
       "      <td>17041316.67</td>\n",
       "      <td>0.35</td>\n",
       "      <td>0.30</td>\n",
       "    </tr>\n",
       "    <tr>\n",
       "      <th>2021-12-16</th>\n",
       "      <td>17.107250</td>\n",
       "      <td>18.043806</td>\n",
       "      <td>0.21</td>\n",
       "      <td>0.47</td>\n",
       "      <td>35071495.01</td>\n",
       "      <td>0.42</td>\n",
       "      <td>0.23</td>\n",
       "      <td>0.30</td>\n",
       "      <td>0.38</td>\n",
       "      <td>26745216.66</td>\n",
       "      <td>0.39</td>\n",
       "      <td>0.29</td>\n",
       "    </tr>\n",
       "    <tr>\n",
       "      <th>2021-12-17</th>\n",
       "      <td>17.975830</td>\n",
       "      <td>18.006042</td>\n",
       "      <td>0.46</td>\n",
       "      <td>0.60</td>\n",
       "      <td>29157835.58</td>\n",
       "      <td>0.52</td>\n",
       "      <td>0.37</td>\n",
       "      <td>0.37</td>\n",
       "      <td>0.42</td>\n",
       "      <td>32024755.60</td>\n",
       "      <td>0.41</td>\n",
       "      <td>0.32</td>\n",
       "    </tr>\n",
       "    <tr>\n",
       "      <th>2021-12-20</th>\n",
       "      <td>18.149548</td>\n",
       "      <td>18.345921</td>\n",
       "      <td>0.62</td>\n",
       "      <td>0.70</td>\n",
       "      <td>26279629.14</td>\n",
       "      <td>0.62</td>\n",
       "      <td>0.54</td>\n",
       "      <td>0.43</td>\n",
       "      <td>0.51</td>\n",
       "      <td>31742795.09</td>\n",
       "      <td>0.45</td>\n",
       "      <td>0.39</td>\n",
       "    </tr>\n",
       "    <tr>\n",
       "      <th>...</th>\n",
       "      <td>...</td>\n",
       "      <td>...</td>\n",
       "      <td>...</td>\n",
       "      <td>...</td>\n",
       "      <td>...</td>\n",
       "      <td>...</td>\n",
       "      <td>...</td>\n",
       "      <td>...</td>\n",
       "      <td>...</td>\n",
       "      <td>...</td>\n",
       "      <td>...</td>\n",
       "      <td>...</td>\n",
       "    </tr>\n",
       "    <tr>\n",
       "      <th>2022-12-23</th>\n",
       "      <td>18.170000</td>\n",
       "      <td>18.320000</td>\n",
       "      <td>0.17</td>\n",
       "      <td>0.18</td>\n",
       "      <td>13895647.17</td>\n",
       "      <td>0.10</td>\n",
       "      <td>0.19</td>\n",
       "      <td>0.53</td>\n",
       "      <td>0.47</td>\n",
       "      <td>15370231.69</td>\n",
       "      <td>0.50</td>\n",
       "      <td>0.51</td>\n",
       "    </tr>\n",
       "    <tr>\n",
       "      <th>2022-12-27</th>\n",
       "      <td>18.250000</td>\n",
       "      <td>18.520000</td>\n",
       "      <td>0.16</td>\n",
       "      <td>0.15</td>\n",
       "      <td>7241690.72</td>\n",
       "      <td>0.15</td>\n",
       "      <td>0.15</td>\n",
       "      <td>0.48</td>\n",
       "      <td>0.38</td>\n",
       "      <td>15471215.09</td>\n",
       "      <td>0.44</td>\n",
       "      <td>0.43</td>\n",
       "    </tr>\n",
       "    <tr>\n",
       "      <th>2022-12-28</th>\n",
       "      <td>18.450001</td>\n",
       "      <td>18.549999</td>\n",
       "      <td>0.16</td>\n",
       "      <td>0.12</td>\n",
       "      <td>6769230.78</td>\n",
       "      <td>0.14</td>\n",
       "      <td>0.12</td>\n",
       "      <td>0.34</td>\n",
       "      <td>0.28</td>\n",
       "      <td>16201772.04</td>\n",
       "      <td>0.30</td>\n",
       "      <td>0.31</td>\n",
       "    </tr>\n",
       "    <tr>\n",
       "      <th>2022-12-29</th>\n",
       "      <td>18.270000</td>\n",
       "      <td>18.549999</td>\n",
       "      <td>0.16</td>\n",
       "      <td>0.11</td>\n",
       "      <td>3687825.61</td>\n",
       "      <td>0.13</td>\n",
       "      <td>0.13</td>\n",
       "      <td>0.22</td>\n",
       "      <td>0.21</td>\n",
       "      <td>17262933.65</td>\n",
       "      <td>0.20</td>\n",
       "      <td>0.22</td>\n",
       "    </tr>\n",
       "    <tr>\n",
       "      <th>2022-12-30</th>\n",
       "      <td>18.420000</td>\n",
       "      <td>18.480000</td>\n",
       "      <td>0.12</td>\n",
       "      <td>0.10</td>\n",
       "      <td>2470609.33</td>\n",
       "      <td>0.10</td>\n",
       "      <td>0.06</td>\n",
       "      <td>0.18</td>\n",
       "      <td>0.20</td>\n",
       "      <td>17662251.38</td>\n",
       "      <td>0.16</td>\n",
       "      <td>0.20</td>\n",
       "    </tr>\n",
       "  </tbody>\n",
       "</table>\n",
       "<p>264 rows × 12 columns</p>\n",
       "</div>"
      ],
      "text/plain": [
       "                        open       high  std_open_5d  std_close_5d  \\\n",
       "symbol date                                                          \n",
       "T      2021-12-14  16.910875  17.167673         0.21          0.27   \n",
       "       2021-12-15  16.827795  16.918428         0.26          0.26   \n",
       "       2021-12-16  17.107250  18.043806         0.21          0.47   \n",
       "       2021-12-17  17.975830  18.006042         0.46          0.60   \n",
       "       2021-12-20  18.149548  18.345921         0.62          0.70   \n",
       "...                      ...        ...          ...           ...   \n",
       "       2022-12-23  18.170000  18.320000         0.17          0.18   \n",
       "       2022-12-27  18.250000  18.520000         0.16          0.15   \n",
       "       2022-12-28  18.450001  18.549999         0.16          0.12   \n",
       "       2022-12-29  18.270000  18.549999         0.16          0.11   \n",
       "       2022-12-30  18.420000  18.480000         0.12          0.10   \n",
       "\n",
       "                   std_volume_5d  std_high_5d  std_low_5d  std_open_10d  \\\n",
       "symbol date                                                               \n",
       "T      2021-12-14    19608885.02         0.25        0.24          0.29   \n",
       "       2021-12-15    20024385.37         0.21        0.23          0.33   \n",
       "       2021-12-16    35071495.01         0.42        0.23          0.30   \n",
       "       2021-12-17    29157835.58         0.52        0.37          0.37   \n",
       "       2021-12-20    26279629.14         0.62        0.54          0.43   \n",
       "...                          ...          ...         ...           ...   \n",
       "       2022-12-23    13895647.17         0.10        0.19          0.53   \n",
       "       2022-12-27     7241690.72         0.15        0.15          0.48   \n",
       "       2022-12-28     6769230.78         0.14        0.12          0.34   \n",
       "       2022-12-29     3687825.61         0.13        0.13          0.22   \n",
       "       2022-12-30     2470609.33         0.10        0.06          0.18   \n",
       "\n",
       "                   std_close_10d  std_volume_10d  std_high_10d  std_low_10d  \n",
       "symbol date                                                                  \n",
       "T      2021-12-14           0.32     18344355.21          0.28         0.28  \n",
       "       2021-12-15           0.33     17041316.67          0.35         0.30  \n",
       "       2021-12-16           0.38     26745216.66          0.39         0.29  \n",
       "       2021-12-17           0.42     32024755.60          0.41         0.32  \n",
       "       2021-12-20           0.51     31742795.09          0.45         0.39  \n",
       "...                          ...             ...           ...          ...  \n",
       "       2022-12-23           0.47     15370231.69          0.50         0.51  \n",
       "       2022-12-27           0.38     15471215.09          0.44         0.43  \n",
       "       2022-12-28           0.28     16201772.04          0.30         0.31  \n",
       "       2022-12-29           0.21     17262933.65          0.20         0.22  \n",
       "       2022-12-30           0.20     17662251.38          0.16         0.20  \n",
       "\n",
       "[264 rows x 12 columns]"
      ]
     },
     "execution_count": 3,
     "metadata": {},
     "output_type": "execute_result"
    }
   ],
   "source": [
    "history = history_raw.copy()\n",
    "\n",
    "def rolling_column_std( df, column_name, days,exclude=True ):\n",
    "    column_name_hist = \"std_%s_%sd\" % (column_name, days)\n",
    "    df[column_name_hist] = df[column_name].rolling(days).std().round(2)\n",
    "    if exclude:\n",
    "        df.drop([column_name], axis='columns', inplace=True)\n",
    "\n",
    "rolling_column_std(history,'open', 5, False)\n",
    "rolling_column_std(history,'close', 5, False)\n",
    "rolling_column_std(history,'volume', 5, False)\n",
    "rolling_column_std(history,'high', 5, False)\n",
    "rolling_column_std(history,'low', 5, False)\n",
    "\n",
    "rolling_column_std(history,'open', 10, False)\n",
    "rolling_column_std(history,'close', 10)\n",
    "rolling_column_std(history,'volume', 10)\n",
    "rolling_column_std(history,'high', 10, False)\n",
    "rolling_column_std(history,'low', 10)\n",
    "\n",
    "history.dropna(subset=['std_open_5d'], inplace=True)\n",
    "history.dropna(subset=['std_open_10d'], inplace=True)\n",
    "history.drop(['dividends','adjclose','splits'], axis='columns', inplace=True, errors='ignore')\n",
    "\n",
    "history"
   ]
  },
  {
   "cell_type": "code",
   "execution_count": 4,
   "id": "5cea9e58",
   "metadata": {},
   "outputs": [
    {
     "name": "stdout",
     "output_type": "stream",
     "text": [
      "completed\n"
     ]
    }
   ],
   "source": [
    "from prophet import Prophet\n",
    "\n",
    "history_goog = history.reset_index()\n",
    "#history['date'] = pd.to_datetime(history['date'])\n",
    "#history.sort_values(by=['symbol','date'], inplace = True)\n",
    "history_goog = history_goog[ history_goog['symbol'] == stock_market ]\n",
    "\n",
    "history_goog.rename({\"date\": \"ds\"}, inplace=True, axis=1)\n",
    "history_goog.rename({\"open\": \"y\"}, inplace=True, axis=1)\n",
    "\n",
    "print('completed')"
   ]
  },
  {
   "cell_type": "code",
   "execution_count": 5,
   "id": "67ea7f11",
   "metadata": {},
   "outputs": [
    {
     "name": "stdout",
     "output_type": "stream",
     "text": [
      "completed\n"
     ]
    }
   ],
   "source": [
    "history_raw_goog = Ticker(symbols).history(start=started, end='2023-01-20',adj_ohlc=False)\n",
    "history_raw_goog = history_raw_goog.reset_index()\n",
    "print('completed')"
   ]
  },
  {
   "cell_type": "code",
   "execution_count": 6,
   "id": "a0c989fa",
   "metadata": {},
   "outputs": [
    {
     "name": "stdout",
     "output_type": "stream",
     "text": [
      "completed\n"
     ]
    }
   ],
   "source": [
    "history_raw_goog_cp = history_raw_goog.copy()\n",
    "\n",
    "history_raw_goog_cp['date'] = pd.to_datetime(history_raw_goog_cp['date'])\n",
    "history_raw_goog_cp.sort_values(by=['date'], inplace = True)\n",
    "\n",
    "rolling_column_std(history_raw_goog_cp,'open', 5, False)\n",
    "rolling_column_std(history_raw_goog_cp,'close', 5, False)\n",
    "rolling_column_std(history_raw_goog_cp,'volume', 5, False)\n",
    "rolling_column_std(history_raw_goog_cp,'high', 5, False)\n",
    "rolling_column_std(history_raw_goog_cp,'low', 5, False)\n",
    "\n",
    "rolling_column_std(history_raw_goog_cp,'open', 10, False)\n",
    "rolling_column_std(history_raw_goog_cp,'close', 10)\n",
    "rolling_column_std(history_raw_goog_cp,'volume', 10)\n",
    "rolling_column_std(history_raw_goog_cp,'high', 10, False)\n",
    "rolling_column_std(history_raw_goog_cp,'low', 10)\n",
    "\n",
    "history_raw_goog_cp.dropna(subset=['std_open_5d','std_open_10d'], inplace=True)\n",
    "#history_raw_goog_cp.drop(['adjclose'], axis='columns', inplace=True)\n",
    "print('completed')"
   ]
  },
  {
   "cell_type": "code",
   "execution_count": 7,
   "id": "59defc80",
   "metadata": {},
   "outputs": [
    {
     "data": {
      "text/html": [
       "<div>\n",
       "<style scoped>\n",
       "    .dataframe tbody tr th:only-of-type {\n",
       "        vertical-align: middle;\n",
       "    }\n",
       "\n",
       "    .dataframe tbody tr th {\n",
       "        vertical-align: top;\n",
       "    }\n",
       "\n",
       "    .dataframe thead th {\n",
       "        text-align: right;\n",
       "    }\n",
       "</style>\n",
       "<table border=\"1\" class=\"dataframe\">\n",
       "  <thead>\n",
       "    <tr style=\"text-align: right;\">\n",
       "      <th></th>\n",
       "      <th>symbol</th>\n",
       "      <th>date</th>\n",
       "      <th>open</th>\n",
       "      <th>high</th>\n",
       "      <th>adjclose</th>\n",
       "      <th>dividends</th>\n",
       "      <th>splits</th>\n",
       "      <th>std_open_5d</th>\n",
       "      <th>std_close_5d</th>\n",
       "      <th>std_volume_5d</th>\n",
       "      <th>std_high_5d</th>\n",
       "      <th>std_low_5d</th>\n",
       "      <th>std_open_10d</th>\n",
       "      <th>std_close_10d</th>\n",
       "      <th>std_volume_10d</th>\n",
       "      <th>std_high_10d</th>\n",
       "      <th>std_low_10d</th>\n",
       "    </tr>\n",
       "  </thead>\n",
       "  <tbody>\n",
       "    <tr>\n",
       "      <th>242</th>\n",
       "      <td>T</td>\n",
       "      <td>2022-11-16</td>\n",
       "      <td>19.000000</td>\n",
       "      <td>19.049999</td>\n",
       "      <td>18.660542</td>\n",
       "      <td>0.000</td>\n",
       "      <td>0.0</td>\n",
       "      <td>0.14</td>\n",
       "      <td>0.09</td>\n",
       "      <td>8533189.34</td>\n",
       "      <td>0.19</td>\n",
       "      <td>0.16</td>\n",
       "      <td>0.35</td>\n",
       "      <td>0.35</td>\n",
       "      <td>5914005.74</td>\n",
       "      <td>0.39</td>\n",
       "      <td>0.35</td>\n",
       "    </tr>\n",
       "    <tr>\n",
       "      <th>92</th>\n",
       "      <td>T</td>\n",
       "      <td>2022-04-13</td>\n",
       "      <td>19.120001</td>\n",
       "      <td>19.490000</td>\n",
       "      <td>18.562250</td>\n",
       "      <td>0.278</td>\n",
       "      <td>0.0</td>\n",
       "      <td>0.77</td>\n",
       "      <td>0.81</td>\n",
       "      <td>40117023.33</td>\n",
       "      <td>0.90</td>\n",
       "      <td>0.77</td>\n",
       "      <td>0.64</td>\n",
       "      <td>0.72</td>\n",
       "      <td>34636879.97</td>\n",
       "      <td>0.78</td>\n",
       "      <td>0.66</td>\n",
       "    </tr>\n",
       "    <tr>\n",
       "      <th>192</th>\n",
       "      <td>T</td>\n",
       "      <td>2022-09-07</td>\n",
       "      <td>16.760000</td>\n",
       "      <td>17.139999</td>\n",
       "      <td>16.339653</td>\n",
       "      <td>0.000</td>\n",
       "      <td>0.0</td>\n",
       "      <td>0.41</td>\n",
       "      <td>0.35</td>\n",
       "      <td>11647928.03</td>\n",
       "      <td>0.31</td>\n",
       "      <td>0.37</td>\n",
       "      <td>0.42</td>\n",
       "      <td>0.46</td>\n",
       "      <td>11844260.42</td>\n",
       "      <td>0.35</td>\n",
       "      <td>0.45</td>\n",
       "    </tr>\n",
       "    <tr>\n",
       "      <th>29</th>\n",
       "      <td>T</td>\n",
       "      <td>2022-01-12</td>\n",
       "      <td>19.848944</td>\n",
       "      <td>20.022659</td>\n",
       "      <td>18.823584</td>\n",
       "      <td>0.000</td>\n",
       "      <td>0.0</td>\n",
       "      <td>0.24</td>\n",
       "      <td>0.11</td>\n",
       "      <td>21319990.03</td>\n",
       "      <td>0.09</td>\n",
       "      <td>0.14</td>\n",
       "      <td>0.60</td>\n",
       "      <td>0.52</td>\n",
       "      <td>23638752.92</td>\n",
       "      <td>0.58</td>\n",
       "      <td>0.50</td>\n",
       "    </tr>\n",
       "    <tr>\n",
       "      <th>103</th>\n",
       "      <td>T</td>\n",
       "      <td>2022-04-29</td>\n",
       "      <td>19.360001</td>\n",
       "      <td>19.370001</td>\n",
       "      <td>18.026983</td>\n",
       "      <td>0.000</td>\n",
       "      <td>0.0</td>\n",
       "      <td>0.22</td>\n",
       "      <td>0.27</td>\n",
       "      <td>8416341.28</td>\n",
       "      <td>0.22</td>\n",
       "      <td>0.18</td>\n",
       "      <td>0.25</td>\n",
       "      <td>0.35</td>\n",
       "      <td>10383257.17</td>\n",
       "      <td>0.31</td>\n",
       "      <td>0.24</td>\n",
       "    </tr>\n",
       "  </tbody>\n",
       "</table>\n",
       "</div>"
      ],
      "text/plain": [
       "    symbol       date       open       high   adjclose  dividends  splits  \\\n",
       "242      T 2022-11-16  19.000000  19.049999  18.660542      0.000     0.0   \n",
       "92       T 2022-04-13  19.120001  19.490000  18.562250      0.278     0.0   \n",
       "192      T 2022-09-07  16.760000  17.139999  16.339653      0.000     0.0   \n",
       "29       T 2022-01-12  19.848944  20.022659  18.823584      0.000     0.0   \n",
       "103      T 2022-04-29  19.360001  19.370001  18.026983      0.000     0.0   \n",
       "\n",
       "     std_open_5d  std_close_5d  std_volume_5d  std_high_5d  std_low_5d  \\\n",
       "242         0.14          0.09     8533189.34         0.19        0.16   \n",
       "92          0.77          0.81    40117023.33         0.90        0.77   \n",
       "192         0.41          0.35    11647928.03         0.31        0.37   \n",
       "29          0.24          0.11    21319990.03         0.09        0.14   \n",
       "103         0.22          0.27     8416341.28         0.22        0.18   \n",
       "\n",
       "     std_open_10d  std_close_10d  std_volume_10d  std_high_10d  std_low_10d  \n",
       "242          0.35           0.35      5914005.74          0.39         0.35  \n",
       "92           0.64           0.72     34636879.97          0.78         0.66  \n",
       "192          0.42           0.46     11844260.42          0.35         0.45  \n",
       "29           0.60           0.52     23638752.92          0.58         0.50  \n",
       "103          0.25           0.35     10383257.17          0.31         0.24  "
      ]
     },
     "execution_count": 7,
     "metadata": {},
     "output_type": "execute_result"
    }
   ],
   "source": [
    "history_raw_goog_cp.sample(5)"
   ]
  },
  {
   "cell_type": "code",
   "execution_count": 8,
   "id": "5edfb7ec",
   "metadata": {},
   "outputs": [
    {
     "data": {
      "application/vnd.jupyter.widget-view+json": {
       "model_id": "649ec1a14d0e4d22b6b9434a174a897e",
       "version_major": 2,
       "version_minor": 0
      },
      "text/plain": [
       "  0%|          | 0/18 [00:00<?, ?it/s]"
      ]
     },
     "metadata": {},
     "output_type": "display_data"
    },
    {
     "name": "stderr",
     "output_type": "stream",
     "text": [
      "Optimization terminated abnormally. Falling back to Newton.\n"
     ]
    },
    {
     "name": "stdout",
     "output_type": "stream",
     "text": [
      "  horizon       mse      rmse       mae     mape     mdape     smape  coverage\n",
      "0 30 days  4.859029  2.204321  1.898922  0.10423  0.103463  0.104553  0.293333\n"
     ]
    },
    {
     "data": {
      "application/vnd.jupyter.widget-view+json": {
       "model_id": "e1249873f2304b3b98cff58dd67baab1",
       "version_major": 2,
       "version_minor": 0
      },
      "text/plain": [
       "  0%|          | 0/18 [00:00<?, ?it/s]"
      ]
     },
     "metadata": {},
     "output_type": "display_data"
    },
    {
     "data": {
      "application/vnd.jupyter.widget-view+json": {
       "model_id": "563b0e4d81724fae9fd2c45f11ce97a1",
       "version_major": 2,
       "version_minor": 0
      },
      "text/plain": [
       "  0%|          | 0/18 [00:00<?, ?it/s]"
      ]
     },
     "metadata": {},
     "output_type": "display_data"
    },
    {
     "name": "stderr",
     "output_type": "stream",
     "text": [
      "Optimization terminated abnormally. Falling back to Newton.\n"
     ]
    },
    {
     "data": {
      "application/vnd.jupyter.widget-view+json": {
       "model_id": "2de8e4e0242d4314b1deb7d2a853ebec",
       "version_major": 2,
       "version_minor": 0
      },
      "text/plain": [
       "  0%|          | 0/18 [00:00<?, ?it/s]"
      ]
     },
     "metadata": {},
     "output_type": "display_data"
    },
    {
     "name": "stdout",
     "output_type": "stream",
     "text": [
      "  horizon       mse      rmse       mae      mape     mdape     smape  \\\n",
      "0 30 days  3.424875  1.850642  1.297929  0.069584  0.045215  0.072615   \n",
      "\n",
      "   coverage  \n",
      "0      0.44  \n"
     ]
    },
    {
     "data": {
      "application/vnd.jupyter.widget-view+json": {
       "model_id": "c8d9236b97f3444caa6d16f17dab4fea",
       "version_major": 2,
       "version_minor": 0
      },
      "text/plain": [
       "  0%|          | 0/18 [00:00<?, ?it/s]"
      ]
     },
     "metadata": {},
     "output_type": "display_data"
    },
    {
     "name": "stderr",
     "output_type": "stream",
     "text": [
      "Optimization terminated abnormally. Falling back to Newton.\n"
     ]
    },
    {
     "name": "stdout",
     "output_type": "stream",
     "text": [
      "  horizon       mse      rmse       mae      mape     mdape     smape  \\\n",
      "0 30 days  3.416318  1.848328  1.295064  0.069445  0.045009  0.072454   \n",
      "\n",
      "   coverage  \n",
      "0  0.450667  \n"
     ]
    },
    {
     "data": {
      "application/vnd.jupyter.widget-view+json": {
       "model_id": "1dec7f6cb18e4500b1edb2bb87738ed2",
       "version_major": 2,
       "version_minor": 0
      },
      "text/plain": [
       "  0%|          | 0/18 [00:00<?, ?it/s]"
      ]
     },
     "metadata": {},
     "output_type": "display_data"
    },
    {
     "data": {
      "application/vnd.jupyter.widget-view+json": {
       "model_id": "d42008ed05b7422ea8403edb064b0654",
       "version_major": 2,
       "version_minor": 0
      },
      "text/plain": [
       "  0%|          | 0/18 [00:00<?, ?it/s]"
      ]
     },
     "metadata": {},
     "output_type": "display_data"
    },
    {
     "name": "stderr",
     "output_type": "stream",
     "text": [
      "Optimization terminated abnormally. Falling back to Newton.\n"
     ]
    },
    {
     "data": {
      "application/vnd.jupyter.widget-view+json": {
       "model_id": "6ae1b68e631741acb007eaf33d14008d",
       "version_major": 2,
       "version_minor": 0
      },
      "text/plain": [
       "  0%|          | 0/18 [00:00<?, ?it/s]"
      ]
     },
     "metadata": {},
     "output_type": "display_data"
    },
    {
     "data": {
      "application/vnd.jupyter.widget-view+json": {
       "model_id": "bb3494f4cc064ca1a2b0472d82a4aa33",
       "version_major": 2,
       "version_minor": 0
      },
      "text/plain": [
       "  0%|          | 0/18 [00:00<?, ?it/s]"
      ]
     },
     "metadata": {},
     "output_type": "display_data"
    },
    {
     "data": {
      "application/vnd.jupyter.widget-view+json": {
       "model_id": "878677fbfd8d4a628477cf2a6ddf6442",
       "version_major": 2,
       "version_minor": 0
      },
      "text/plain": [
       "  0%|          | 0/18 [00:00<?, ?it/s]"
      ]
     },
     "metadata": {},
     "output_type": "display_data"
    },
    {
     "name": "stdout",
     "output_type": "stream",
     "text": [
      "  horizon       mse      rmse       mae      mape     mdape     smape  \\\n",
      "0 30 days  0.027607  0.166153  0.127954  0.006933  0.005466  0.006917   \n",
      "\n",
      "   coverage  \n",
      "0  0.818667  \n"
     ]
    },
    {
     "data": {
      "application/vnd.jupyter.widget-view+json": {
       "model_id": "8c62eb6dd3d0437db48428e1cc828cd1",
       "version_major": 2,
       "version_minor": 0
      },
      "text/plain": [
       "  0%|          | 0/18 [00:00<?, ?it/s]"
      ]
     },
     "metadata": {},
     "output_type": "display_data"
    },
    {
     "name": "stderr",
     "output_type": "stream",
     "text": [
      "Optimization terminated abnormally. Falling back to Newton.\n"
     ]
    },
    {
     "name": "stdout",
     "output_type": "stream",
     "text": [
      "  horizon       mse      rmse       mae      mape     mdape     smape  \\\n",
      "0 30 days  0.025936  0.161048  0.124407  0.006739  0.005404  0.006723   \n",
      "\n",
      "   coverage  \n",
      "0  0.813333  \n"
     ]
    },
    {
     "data": {
      "application/vnd.jupyter.widget-view+json": {
       "model_id": "ba04e0c7eaf64c87a589c213afa9d5a5",
       "version_major": 2,
       "version_minor": 0
      },
      "text/plain": [
       "  0%|          | 0/18 [00:00<?, ?it/s]"
      ]
     },
     "metadata": {},
     "output_type": "display_data"
    },
    {
     "data": {
      "application/vnd.jupyter.widget-view+json": {
       "model_id": "1a342111b12844f3ad741c3d5dc42a6c",
       "version_major": 2,
       "version_minor": 0
      },
      "text/plain": [
       "  0%|          | 0/18 [00:00<?, ?it/s]"
      ]
     },
     "metadata": {},
     "output_type": "display_data"
    },
    {
     "data": {
      "application/vnd.jupyter.widget-view+json": {
       "model_id": "58f13b56677e467b9ac6b503c42ec7e8",
       "version_major": 2,
       "version_minor": 0
      },
      "text/plain": [
       "  0%|          | 0/18 [00:00<?, ?it/s]"
      ]
     },
     "metadata": {},
     "output_type": "display_data"
    },
    {
     "data": {
      "application/vnd.jupyter.widget-view+json": {
       "model_id": "98615efd15a347539d913b1d3ab848a9",
       "version_major": 2,
       "version_minor": 0
      },
      "text/plain": [
       "  0%|          | 0/18 [00:00<?, ?it/s]"
      ]
     },
     "metadata": {},
     "output_type": "display_data"
    },
    {
     "data": {
      "application/vnd.jupyter.widget-view+json": {
       "model_id": "236c9c98aa77461481b5562a19f6bd66",
       "version_major": 2,
       "version_minor": 0
      },
      "text/plain": [
       "  0%|          | 0/18 [00:00<?, ?it/s]"
      ]
     },
     "metadata": {},
     "output_type": "display_data"
    },
    {
     "data": {
      "application/vnd.jupyter.widget-view+json": {
       "model_id": "c0c84616909d460ba0cbc02474fc3b61",
       "version_major": 2,
       "version_minor": 0
      },
      "text/plain": [
       "  0%|          | 0/18 [00:00<?, ?it/s]"
      ]
     },
     "metadata": {},
     "output_type": "display_data"
    },
    {
     "data": {
      "application/vnd.jupyter.widget-view+json": {
       "model_id": "43231ed60539449da94253a082d8f840",
       "version_major": 2,
       "version_minor": 0
      },
      "text/plain": [
       "  0%|          | 0/18 [00:00<?, ?it/s]"
      ]
     },
     "metadata": {},
     "output_type": "display_data"
    },
    {
     "name": "stderr",
     "output_type": "stream",
     "text": [
      "Optimization terminated abnormally. Falling back to Newton.\n"
     ]
    },
    {
     "data": {
      "application/vnd.jupyter.widget-view+json": {
       "model_id": "06fe460565a14d409b4d1ba472412e2f",
       "version_major": 2,
       "version_minor": 0
      },
      "text/plain": [
       "  0%|          | 0/18 [00:00<?, ?it/s]"
      ]
     },
     "metadata": {},
     "output_type": "display_data"
    },
    {
     "data": {
      "application/vnd.jupyter.widget-view+json": {
       "model_id": "f8be4c0208334e259d2bd8ce3853c07f",
       "version_major": 2,
       "version_minor": 0
      },
      "text/plain": [
       "  0%|          | 0/18 [00:00<?, ?it/s]"
      ]
     },
     "metadata": {},
     "output_type": "display_data"
    },
    {
     "data": {
      "application/vnd.jupyter.widget-view+json": {
       "model_id": "6d553ae2751e480faeb8f5df3a6737ee",
       "version_major": 2,
       "version_minor": 0
      },
      "text/plain": [
       "  0%|          | 0/18 [00:00<?, ?it/s]"
      ]
     },
     "metadata": {},
     "output_type": "display_data"
    },
    {
     "name": "stderr",
     "output_type": "stream",
     "text": [
      "Optimization terminated abnormally. Falling back to Newton.\n"
     ]
    },
    {
     "data": {
      "application/vnd.jupyter.widget-view+json": {
       "model_id": "c38d5d1903f24d37bc17da78b0b3b56f",
       "version_major": 2,
       "version_minor": 0
      },
      "text/plain": [
       "  0%|          | 0/18 [00:00<?, ?it/s]"
      ]
     },
     "metadata": {},
     "output_type": "display_data"
    },
    {
     "name": "stderr",
     "output_type": "stream",
     "text": [
      "Optimization terminated abnormally. Falling back to Newton.\n",
      "Optimization terminated abnormally. Falling back to Newton.\n"
     ]
    },
    {
     "data": {
      "application/vnd.jupyter.widget-view+json": {
       "model_id": "574c416e9a2141ceb0073d386f8a89b0",
       "version_major": 2,
       "version_minor": 0
      },
      "text/plain": [
       "  0%|          | 0/18 [00:00<?, ?it/s]"
      ]
     },
     "metadata": {},
     "output_type": "display_data"
    },
    {
     "data": {
      "application/vnd.jupyter.widget-view+json": {
       "model_id": "9d7a97d9971e44618ddef36b1b649e14",
       "version_major": 2,
       "version_minor": 0
      },
      "text/plain": [
       "  0%|          | 0/18 [00:00<?, ?it/s]"
      ]
     },
     "metadata": {},
     "output_type": "display_data"
    },
    {
     "data": {
      "application/vnd.jupyter.widget-view+json": {
       "model_id": "0e471d9ddaa6424c9d35aba54a700c3d",
       "version_major": 2,
       "version_minor": 0
      },
      "text/plain": [
       "  0%|          | 0/18 [00:00<?, ?it/s]"
      ]
     },
     "metadata": {},
     "output_type": "display_data"
    },
    {
     "data": {
      "application/vnd.jupyter.widget-view+json": {
       "model_id": "8926912f172548a98be94c8288af8d5b",
       "version_major": 2,
       "version_minor": 0
      },
      "text/plain": [
       "  0%|          | 0/18 [00:00<?, ?it/s]"
      ]
     },
     "metadata": {},
     "output_type": "display_data"
    },
    {
     "data": {
      "application/vnd.jupyter.widget-view+json": {
       "model_id": "1d597e42507a41c68043e5eaa7332403",
       "version_major": 2,
       "version_minor": 0
      },
      "text/plain": [
       "  0%|          | 0/18 [00:00<?, ?it/s]"
      ]
     },
     "metadata": {},
     "output_type": "display_data"
    },
    {
     "name": "stderr",
     "output_type": "stream",
     "text": [
      "Optimization terminated abnormally. Falling back to Newton.\n"
     ]
    },
    {
     "name": "stdout",
     "output_type": "stream",
     "text": [
      "completed\n"
     ]
    }
   ],
   "source": [
    "import itertools\n",
    "import numpy as np\n",
    "import pandas as pd\n",
    "from prophet.diagnostics import cross_validation\n",
    "from prophet.diagnostics import performance_metrics\n",
    "\n",
    "history_raw_goog_cp.rename({\"date\": \"ds\"}, inplace=True, axis=1)\n",
    "history_raw_goog_cp.rename({\"open\": \"y\"}, inplace=True, axis=1)\n",
    "history_goog.rename({\"high\": \"cap\"}, inplace=True, axis=1)\n",
    "\n",
    "param_grid = {\n",
    "    'growth': ['linear', 'logistic', 'flat'],\n",
    "    'changepoint_prior_scale': [0.01, 0.1, 0.5],\n",
    "    'seasonality_prior_scale': [0.1, 1.0, 5.0],\n",
    "}\n",
    "\n",
    "all_params = [dict(zip(param_grid.keys(), v)) for v in itertools.product(*param_grid.values())]\n",
    "results = []\n",
    "\n",
    "import logging\n",
    "logger = logging.getLogger('cmdstanpy')\n",
    "logger.addHandler(logging.NullHandler())\n",
    "logger.propagate = False\n",
    "logger.setLevel(logging.CRITICAL)\n",
    "\n",
    "result = {}\n",
    "result['rmse'] = [100]\n",
    "win_m = None\n",
    "win_params = None\n",
    "\n",
    "for params in all_params:\n",
    "    m = Prophet(**params)\n",
    "    m.add_regressor('std_open_5d')\n",
    "    m.add_regressor('std_close_5d')\n",
    "    m.add_regressor('std_volume_5d')\n",
    "    m.add_regressor('std_high_5d')\n",
    "    m.add_regressor('std_low_5d')\n",
    "\n",
    "    m.add_regressor('std_open_10d')\n",
    "    m.add_regressor('std_close_10d')\n",
    "    m.add_regressor('std_volume_10d')\n",
    "    m.add_regressor('std_high_10d')\n",
    "    m.add_regressor('std_low_10d')\n",
    "    \n",
    "    m.fit(history_goog)    \n",
    "    df_cv = cross_validation(m, horizon = '30 days')\n",
    "    df_p = performance_metrics(df_cv, rolling_window=1)\n",
    "    \n",
    "    if df_p['rmse'][0] < result['rmse'][0]:\n",
    "        result = df_p\n",
    "        win_m = m\n",
    "        win_params = params\n",
    "        print(df_p)\n",
    "\n",
    "print('completed')"
   ]
  },
  {
   "cell_type": "code",
   "execution_count": 9,
   "id": "c6bd2810",
   "metadata": {},
   "outputs": [
    {
     "data": {
      "text/plain": [
       "Text(91.97222222222221, 0.5, 'Preço abertura')"
      ]
     },
     "execution_count": 9,
     "metadata": {},
     "output_type": "execute_result"
    },
    {
     "data": {
      "image/png": "[encoded data removed]",
      "text/plain": [
       "<Figure size 1000x600 with 1 Axes>"
      ]
     },
     "metadata": {},
     "output_type": "display_data"
    }
   ],
   "source": [
    "history_raw_goog_cp.rename({\"high\": \"cap\"}, inplace=True, axis=1)\n",
    "forecast = win_m.predict(history_raw_goog_cp)\n",
    "\n",
    "fig1 = win_m.plot(forecast)\n",
    "\n",
    "ax = fig1.gca()\n",
    "#fig1.set_figwidth(40)\n",
    "#fig1.set_figheight(10)\n",
    "ax.set_title(\"AT&T\", size=24)\n",
    "ax.set_xlabel(\"Dias aberturas\", size=14)\n",
    "ax.set_ylabel(\"Preço abertura\", size=14)"
   ]
  },
  {
   "cell_type": "code",
   "execution_count": 10,
   "id": "6dc3b3dd",
   "metadata": {},
   "outputs": [
    {
     "data": {
      "text/html": [
       "<div>\n",
       "<style scoped>\n",
       "    .dataframe tbody tr th:only-of-type {\n",
       "        vertical-align: middle;\n",
       "    }\n",
       "\n",
       "    .dataframe tbody tr th {\n",
       "        vertical-align: top;\n",
       "    }\n",
       "\n",
       "    .dataframe thead th {\n",
       "        text-align: right;\n",
       "    }\n",
       "</style>\n",
       "<table border=\"1\" class=\"dataframe\">\n",
       "  <thead>\n",
       "    <tr style=\"text-align: right;\">\n",
       "      <th></th>\n",
       "      <th>horizon</th>\n",
       "      <th>mse</th>\n",
       "      <th>rmse</th>\n",
       "      <th>mae</th>\n",
       "      <th>mape</th>\n",
       "      <th>mdape</th>\n",
       "      <th>smape</th>\n",
       "      <th>coverage</th>\n",
       "    </tr>\n",
       "  </thead>\n",
       "  <tbody>\n",
       "    <tr>\n",
       "      <th>0</th>\n",
       "      <td>30 days</td>\n",
       "      <td>0.025936</td>\n",
       "      <td>0.161048</td>\n",
       "      <td>0.124407</td>\n",
       "      <td>0.006739</td>\n",
       "      <td>0.005404</td>\n",
       "      <td>0.006723</td>\n",
       "      <td>0.813333</td>\n",
       "    </tr>\n",
       "  </tbody>\n",
       "</table>\n",
       "</div>"
      ],
      "text/plain": [
       "  horizon       mse      rmse       mae      mape     mdape     smape  \\\n",
       "0 30 days  0.025936  0.161048  0.124407  0.006739  0.005404  0.006723   \n",
       "\n",
       "   coverage  \n",
       "0  0.813333  "
      ]
     },
     "execution_count": 10,
     "metadata": {},
     "output_type": "execute_result"
    }
   ],
   "source": [
    "result"
   ]
  },
  {
   "cell_type": "code",
   "execution_count": 11,
   "id": "fa118705",
   "metadata": {},
   "outputs": [
    {
     "data": {
      "text/plain": [
       "{'growth': 'logistic',\n",
       " 'changepoint_prior_scale': 0.01,\n",
       " 'seasonality_prior_scale': 1.0}"
      ]
     },
     "execution_count": 11,
     "metadata": {},
     "output_type": "execute_result"
    }
   ],
   "source": [
    "win_params"
   ]
  }
 ],
 "metadata": {
  "kernelspec": {
   "display_name": "Python 3 (ipykernel)",
   "language": "python",
   "name": "python3"
  },
  "language_info": {
   "codemirror_mode": {
    "name": "ipython",
    "version": 3
   },
   "file_extension": ".py",
   "mimetype": "text/x-python",
   "name": "python",
   "nbconvert_exporter": "python",
   "pygments_lexer": "ipython3",
   "version": "3.9.13"
  }
 },
 "nbformat": 4,
 "nbformat_minor": 5
}
